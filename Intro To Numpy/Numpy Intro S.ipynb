{
 "cells": [
  {
   "cell_type": "markdown",
   "metadata": {},
   "source": [
    "# Numpy Lab\n",
    "(short for NUMber PYthon)\n",
    "\n",
    "As yet, we have not really done much mathematics! The Python language does not include\n",
    "built-in support for maths. However, there are of course modules that we can import to\n",
    "provide mathematics functions. The most basic is the math module. This is generally not\n",
    "enough for us. By all means load the math module and try it. However, we will use\n",
    "the far more powerful NumPy module.\n",
    "\n",
    "What is module? A collection of handy functions that is put together for later use. "
   ]
  },
  {
   "cell_type": "markdown",
   "metadata": {},
   "source": [
    "A huge amount of development has gone into the development of a mathematics module\n",
    "called NumPy.\n",
    "\n",
    "Note 1: It is usually written as NumPy but when you import it use: import numpy (all\n",
    "lowercase).\n",
    "\n",
    "Note 2: You may come across previous versions called Numeric and NumArray. These are\n",
    "now out of date. Please don’t use them.\n",
    "\n",
    "If you were using your python on your own computer, you would have to install NumPy module and then you would be able to use it. However, since numpy is a prominent and useful module, Jupiter Notebook has already done this. \n",
    "\n",
    "What NumPy gives you is new numerical array and matrix types and a set of basic operations\n",
    "on them. Unlike Python lists, this new array type is a set of elements, all of the same type.\n",
    "Thus these arrays can be used for vectors and matrices. They provide us with fast matrix and\n",
    "vector manipulation."
   ]
  },
  {
   "cell_type": "code",
   "execution_count": null,
   "metadata": {},
   "outputs": [],
   "source": []
  },
  {
   "cell_type": "markdown",
   "metadata": {},
   "source": [
    "# Some Functions"
   ]
  },
  {
   "cell_type": "code",
   "execution_count": null,
   "metadata": {},
   "outputs": [],
   "source": []
  },
  {
   "cell_type": "markdown",
   "metadata": {},
   "source": [
    "# arange()"
   ]
  },
  {
   "cell_type": "code",
   "execution_count": null,
   "metadata": {},
   "outputs": [],
   "source": []
  },
  {
   "cell_type": "markdown",
   "metadata": {},
   "source": [
    "# :: slicing\n",
    "The syntax of a[x::y] means get every yth element starting at position x"
   ]
  },
  {
   "cell_type": "code",
   "execution_count": null,
   "metadata": {},
   "outputs": [],
   "source": []
  },
  {
   "cell_type": "markdown",
   "metadata": {},
   "source": [
    "# zeros()\n",
    "A function to create an array with all zeros. This can be used as a placeholder. This can then be filled with the data we\n",
    "want."
   ]
  },
  {
   "cell_type": "code",
   "execution_count": null,
   "metadata": {},
   "outputs": [],
   "source": []
  },
  {
   "cell_type": "markdown",
   "metadata": {},
   "source": [
    "# Ones()\n",
    "A function to fill the new array with ones."
   ]
  },
  {
   "cell_type": "code",
   "execution_count": null,
   "metadata": {},
   "outputs": [],
   "source": []
  },
  {
   "cell_type": "markdown",
   "metadata": {},
   "source": [
    "# Linspace()\n",
    "linspace(a,b,c) create a squence of numbers from a to b by (b-a)/c increments."
   ]
  },
  {
   "cell_type": "code",
   "execution_count": null,
   "metadata": {},
   "outputs": [],
   "source": []
  },
  {
   "cell_type": "markdown",
   "metadata": {},
   "source": [
    "# Sort()"
   ]
  },
  {
   "cell_type": "code",
   "execution_count": null,
   "metadata": {},
   "outputs": [],
   "source": []
  },
  {
   "cell_type": "markdown",
   "metadata": {},
   "source": [
    "# Descending Sort?\n",
    "np.sort() function does not allow us to sort an array in descending order. Instead, we can reverse an array utilizing list slicing in Python, after it has been sorted in ascending order."
   ]
  },
  {
   "cell_type": "code",
   "execution_count": null,
   "metadata": {},
   "outputs": [],
   "source": []
  },
  {
   "cell_type": "markdown",
   "metadata": {},
   "source": [
    "# Sort with the Indexes\n",
    "In many cases, you won't really need the sorted values but the indexes of sorted values."
   ]
  },
  {
   "cell_type": "code",
   "execution_count": null,
   "metadata": {},
   "outputs": [],
   "source": []
  },
  {
   "cell_type": "markdown",
   "metadata": {},
   "source": [
    "# Boolean Masking\n",
    "This is the simplest yet most useful programing technic."
   ]
  },
  {
   "cell_type": "code",
   "execution_count": null,
   "metadata": {},
   "outputs": [],
   "source": []
  },
  {
   "cell_type": "markdown",
   "metadata": {},
   "source": [
    "# Example"
   ]
  },
  {
   "cell_type": "code",
   "execution_count": 83,
   "metadata": {},
   "outputs": [],
   "source": [
    "input_stock_price_array = np.genfromtxt('AAPL_stock_price_example.csv', delimiter=',',names=True)"
   ]
  },
  {
   "cell_type": "code",
   "execution_count": 84,
   "metadata": {},
   "outputs": [
    {
     "data": {
      "text/plain": [
       "array([(157.919998,), (142.190002,), (148.259995,), (147.929993,),\n",
       "       (150.75    ,), (153.309998,), (153.800003,), (152.289993,),\n",
       "       (150.      ,), (153.070007,), (154.940002,), (155.860001,),\n",
       "       (156.820007,), (153.300003,), (153.919998,), (152.699997,),\n",
       "       (157.759995,), (156.300003,), (154.679993,), (165.25    ,),\n",
       "       (166.440002,), (166.520004,), (171.25    ,), (174.179993,),\n",
       "       (174.240005,), (170.940002,), (170.410004,), (169.429993,),\n",
       "       (170.889999,), (170.179993,), (170.800003,), (170.419998,),\n",
       "       (170.929993,), (172.029999,), (171.059998,), (172.970001,),\n",
       "       (174.229996,), (174.330002,), (174.869995,), (173.149994,),\n",
       "       (174.970001,), (175.850006,), (175.529999,), (174.520004,),\n",
       "       (172.5     ,), (172.910004,), (178.899994,), (180.910004,),\n",
       "       (181.710007,), (183.729996,), (186.119995,), (188.020004,),\n",
       "       (186.529999,), (188.160004,), (195.089996,), (191.050003,),\n",
       "       (188.740005,), (186.789993,), (188.470001,), (188.720001,),\n",
       "       (189.949997,), (191.240005,), (194.020004,), (195.350006,),\n",
       "       (195.690002,), (197.      ,), (200.100006,), (199.5     ,),\n",
       "       (200.619995,), (198.949997,), (198.869995,), (199.229996,),\n",
       "       (199.25    ,), (203.130005,), (203.860001,), (204.529999,),\n",
       "       (207.479996,), (207.160004,), (205.279999,), (204.300003,),\n",
       "       (204.610001,), (200.669998,), (210.520004,), (209.149994,),\n",
       "       (211.75    ,), (208.479996,), (202.860001,), (202.899994,),\n",
       "       (200.720001,), (197.179993,), (185.720001,), (188.660004,),\n",
       "       (190.919998,), (190.080002,), (189.      ,), (183.089996,),\n",
       "       (186.600006,), (182.779999,), (179.660004,), (178.970001,),\n",
       "       (178.229996,), (177.380005,), (178.300003,), (175.070007,),\n",
       "       (173.300003,), (179.639999,), (182.539993,), (185.220001,),\n",
       "       (190.149994,), (192.580002,), (194.809998,), (194.190002,),\n",
       "       (194.149994,), (192.740005,), (193.889999,), (198.449997,),\n",
       "       (197.869995,), (199.460007,), (198.779999,), (198.580002,),\n",
       "       (195.570007,), (199.800003,), (199.740005,), (197.919998,),\n",
       "       (201.550003,), (202.729996,), (204.410004,), (204.229996,),\n",
       "       (200.020004,), (201.240005,), (203.229996,), (201.75    ,),\n",
       "       (203.300003,), (205.210007,), (204.5     ,), (203.350006,),\n",
       "       (205.660004,), (202.589996,), (207.220001,), (208.839996,),\n",
       "       (208.669998,), (207.020004,), (207.740005,), (209.679993,),\n",
       "       (208.779999,), (213.039993,), (208.429993,), (204.020004,),\n",
       "       (193.339996,), (197.      ,), (199.039993,), (203.429993,),\n",
       "       (200.990005,), (200.479996,), (208.970001,), (202.75    ,),\n",
       "       (201.740005,), (206.5     ,), (210.350006,), (210.360001,),\n",
       "       (212.639999,), (212.460007,), (202.639999,), (206.490005,),\n",
       "       (204.160004,), (205.529999,), (209.009995,), (208.740005,),\n",
       "       (205.699997,), (209.190002,), (213.279999,), (213.259995,),\n",
       "       (214.169998,), (216.699997,), (223.589996,), (223.089996,),\n",
       "       (218.75    ,), (219.899994,), (220.699997,), (222.770004,),\n",
       "       (220.960007,), (217.729996,), (218.720001,), (217.679993,),\n",
       "       (221.029999,), (219.889999,), (218.820007,), (223.970001,),\n",
       "       (224.589996,), (218.960007,), (220.820007,), (227.009995,),\n",
       "       (227.059998,), (224.399994,), (227.029999,), (230.089996,),\n",
       "       (236.210007,), (235.869995,), (235.320007,), (234.369995,),\n",
       "       (235.279999,), (236.410004,), (240.509995,), (239.960007,),\n",
       "       (243.179993,), (243.580002,), (246.580002,), (249.050003,),\n",
       "       (243.289993,), (243.259995,), (248.759995,), (255.820007,),\n",
       "       (257.5     ,), (257.130005,), (257.23999 ,), (259.429993,),\n",
       "       (260.140015,), (262.200012,), (261.959991,), (264.470001,),\n",
       "       (262.640015,), (265.76001 ,), (267.100006,), (266.290009,),\n",
       "       (263.190002,), (262.01001 ,), (261.779999,), (266.369995,),\n",
       "       (264.290009,)], dtype=[('Close', '<f8')])"
      ]
     },
     "execution_count": 84,
     "metadata": {},
     "output_type": "execute_result"
    }
   ],
   "source": [
    "input_stock_price_array"
   ]
  },
  {
   "cell_type": "markdown",
   "metadata": {},
   "source": [
    "### Print the first 5 highest closing stock price:"
   ]
  },
  {
   "cell_type": "code",
   "execution_count": null,
   "metadata": {},
   "outputs": [],
   "source": []
  },
  {
   "cell_type": "markdown",
   "metadata": {},
   "source": [
    "### Getting rid of the extra commas:"
   ]
  },
  {
   "cell_type": "code",
   "execution_count": null,
   "metadata": {},
   "outputs": [],
   "source": []
  },
  {
   "cell_type": "markdown",
   "metadata": {},
   "source": [
    "### Calculate the median of the stock prices, and then compare the standard deviation of prices that are lower than the median with the standard deviation of the prices that are higher than the median."
   ]
  },
  {
   "cell_type": "code",
   "execution_count": 100,
   "metadata": {},
   "outputs": [
    {
     "data": {
      "text/plain": [
       "200.720001"
      ]
     },
     "execution_count": 100,
     "metadata": {},
     "output_type": "execute_result"
    }
   ],
   "source": []
  },
  {
   "cell_type": "code",
   "execution_count": 104,
   "metadata": {},
   "outputs": [
    {
     "data": {
      "text/plain": [
       "15.714208233506502"
      ]
     },
     "execution_count": 104,
     "metadata": {},
     "output_type": "execute_result"
    }
   ],
   "source": []
  },
  {
   "cell_type": "code",
   "execution_count": 105,
   "metadata": {},
   "outputs": [
    {
     "data": {
      "text/plain": [
       "20.836566552175693"
      ]
     },
     "execution_count": 105,
     "metadata": {},
     "output_type": "execute_result"
    }
   ],
   "source": []
  }
 ],
 "metadata": {
  "kernelspec": {
   "display_name": "Python 3",
   "language": "python",
   "name": "python3"
  },
  "language_info": {
   "codemirror_mode": {
    "name": "ipython",
    "version": 3
   },
   "file_extension": ".py",
   "mimetype": "text/x-python",
   "name": "python",
   "nbconvert_exporter": "python",
   "pygments_lexer": "ipython3",
   "version": "3.8.3"
  }
 },
 "nbformat": 4,
 "nbformat_minor": 2
}
