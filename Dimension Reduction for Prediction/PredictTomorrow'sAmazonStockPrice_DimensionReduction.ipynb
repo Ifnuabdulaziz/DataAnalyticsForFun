{
 "cells": [
  {
   "cell_type": "markdown",
   "metadata": {},
   "source": [
    "# Prediction"
   ]
  },
  {
   "cell_type": "markdown",
   "metadata": {},
   "source": [
    "Using the historical fluctations of Amazon, Dow Jones, and NASDAQ 100, we want to predict tomorrow's Amazon's price."
   ]
  },
  {
   "cell_type": "markdown",
   "metadata": {},
   "source": [
    "This lesson assumes some understanding of stock market trading. If you don't know much about it, read/watch the following items:\n",
    "\n",
    "- How does the stock market work? (YouTube): https://www.youtube.com/watch?v=p7HKvqRI_Bo\n",
    "- What Are the S&P 500, Nasdaq, and the Dow?: https://www.thebalance.com/the-sandp-500-nasdaq-dow-jones-what-is-this-stuff-453745"
   ]
  },
  {
   "cell_type": "code",
   "execution_count": null,
   "metadata": {},
   "outputs": [],
   "source": [
    "import requests\n",
    "import numpy as np\n",
    "import pandas as pd\n",
    "import datetime\n",
    "import time\n",
    "import matplotlib.pyplot as plt\n",
    "import matplotlib"
   ]
  },
  {
   "cell_type": "code",
   "execution_count": null,
   "metadata": {},
   "outputs": [],
   "source": [
    "import yfinance as yf\n",
    "\n",
    "AMZN = yf.Ticker(\"AMZN\")\n",
    "# get historical market data\n",
    "amz_df = AMZN.history(period=\"357d\")\n",
    "amz_df=amz_df.reset_index()\n",
    "amz_df = amz_df.reset_index()\n",
    "#amz_df.set_index('Date',inplace=True)\n",
    "#amz_df\n",
    "amz_df.columns = ['i','t', 'o', 'h', 'l', 'c', 'v', 'd', 'ss']\n",
    "#amz_df\n",
    "\n",
    "amz_df.t = amz_df.t.apply(lambda x:x.date())\n",
    "\n",
    "def yes_changeP_calc(row):\n",
    "    if(row.i - 2 < 0):\n",
    "        return np.nan\n",
    "    else:\n",
    "        yest_c = amz_df.iloc[row.i-1].c\n",
    "        thedaybef_yesterday_c = amz_df.iloc[row.i-2].c\n",
    "        return ((yest_c-thedaybef_yesterday_c)/thedaybef_yesterday_c*100)\n",
    "    \n",
    "amz_df['yes_changeP'] = amz_df.apply(yes_changeP_calc,axis=1)\n",
    "\n",
    "def lastweek_changeP_calc(row):\n",
    "    if(row.i - 8 <0):\n",
    "        return np.nan\n",
    "    else:\n",
    "        yesterday_c = amz_df.iloc[row.i-1].c\n",
    "        lastweek_c = amz_df.iloc[row.i-8].c\n",
    "        return ((yesterday_c-lastweek_c)/lastweek_c*100)\n",
    "\n",
    "amz_df['lastweek_changeP'] = amz_df.apply(lastweek_changeP_calc,axis=1)\n",
    "\n",
    "def today_changeP_calc(row):\n",
    "    if(row.i - 1 < 0):\n",
    "        return np.nan\n",
    "    else:\n",
    "        today_c = amz_df.iloc[row.i].c\n",
    "        yesterday_c = amz_df.iloc[row.i-1].c\n",
    "        return ((today_c-yesterday_c)/yesterday_c*100)\n",
    "    \n",
    "amz_df['today_changeP'] = amz_df.apply(today_changeP_calc,axis=1)\n",
    "\n",
    "amz_df.set_index('t', inplace=True)\n",
    "#amz_df\n",
    "\n",
    "Nasdaq = yf.Ticker(\"^NDX\")\n",
    "\n",
    "# get historical market data\n",
    "nasdaq_df = Nasdaq.history(period=\"357d\")\n",
    "\n",
    "nasdaq_df=nasdaq_df.reset_index()\n",
    "nasdaq_df = nasdaq_df.reset_index()\n",
    "#nasdaq_df.set_index('Date',inplace=True)\n",
    "#nasdaq_df\n",
    "\n",
    "nasdaq_df.columns = ['i','t', 'o', 'h', 'l', 'c', 'v', 'd', 'ss']\n",
    "#nasdaq_df\n",
    "\n",
    "nasdaq_df.t = nasdaq_df.t.apply(lambda x:x.date())\n",
    "\n",
    "def yes_changeP_calc(row):\n",
    "    if(row.i - 2 < 0):\n",
    "        return np.nan\n",
    "    else:\n",
    "        yest_c = nasdaq_df.iloc[row.i-1].c\n",
    "        thedaybef_yesterday_c = nasdaq_df.iloc[row.i-2].c\n",
    "        return ((yest_c-thedaybef_yesterday_c)/thedaybef_yesterday_c*100)\n",
    "\n",
    "def lastweek_changeP_calc(row):\n",
    "    if(row.i - 8 <0):\n",
    "        return np.nan\n",
    "    else:\n",
    "        yesterday_c = nasdaq_df.iloc[row.i-1].c\n",
    "        lastweek_c = nasdaq_df.iloc[row.i-8].c\n",
    "        return ((yesterday_c-lastweek_c)/lastweek_c*100)\n",
    "\n",
    "nasdaq_df['yes_changeP'] = nasdaq_df.apply(yes_changeP_calc,axis=1)\n",
    "nasdaq_df['lastweek_changeP'] = nasdaq_df.apply(lastweek_changeP_calc,axis=1)\n",
    "nasdaq_df.set_index('t', inplace=True)\n",
    "#nasdaq_df\n",
    "\n",
    "nasdaq_df.drop(columns=['i','o', 'h', 'l', 'c', 'v', 'd', 'ss'],inplace=True)\n",
    "nasdaq_df.columns = ['nasdaq_yes_changeP','nasdaq_lastweek_changeP']\n",
    "#nasdaq_df\n",
    "\n",
    "Dow = yf.Ticker(\"^DJI\")\n",
    "\n",
    "# get historical market data\n",
    "dow_df = Dow.history(period=\"357d\")\n",
    "\n",
    "dow_df=dow_df.reset_index()\n",
    "dow_df = dow_df.reset_index()\n",
    "#dow_df.set_index('Date',inplace=True)\n",
    "dow_df.columns = ['i','t', 'o', 'h', 'l', 'c', 'v', 'd', 'ss']\n",
    "#dow_df\n",
    "\n",
    "dow_df.t = dow_df.t.apply(lambda x:x.date())\n",
    "\n",
    "def yes_changeP_calc(row):\n",
    "    if(row.i - 2 < 0):\n",
    "        return np.nan\n",
    "    else:\n",
    "        yest_c = dow_df.iloc[row.i-1].c\n",
    "        thedaybef_yesterday_c = dow_df.iloc[row.i-2].c\n",
    "        return ((yest_c-thedaybef_yesterday_c)/thedaybef_yesterday_c*100)\n",
    "\n",
    "\n",
    "def lastweek_changeP_calc(row):\n",
    "    if(row.i - 8 <0):\n",
    "        return np.nan\n",
    "    else:\n",
    "        yesterday_c = dow_df.iloc[row.i-1].c\n",
    "        lastweek_c = dow_df.iloc[row.i-8].c\n",
    "        return ((yesterday_c-lastweek_c)/lastweek_c*100)\n",
    "    \n",
    "dow_df['yes_changeP'] = dow_df.apply(yes_changeP_calc,axis=1)\n",
    "dow_df['lastweek_changeP'] = dow_df.apply(lastweek_changeP_calc,axis=1)\n",
    "dow_df.set_index('t', inplace=True)\n",
    "#dow_df\n",
    "\n",
    "dow_df.drop(columns=['i','o', 'h', 'l', 'c', 'v', 'd', 'ss'],inplace=True)\n",
    "dow_df.columns = ['dow_yes_changeP','dow_lastweek_changeP']\n",
    "#dow_df\n",
    "\n",
    "integrate_df = amz_df.join(dow_df)\n",
    "integrate_df = integrate_df.join(nasdaq_df)\n",
    "integrate_df.drop(columns = ['i','o', 'h', 'l', 'c', 'v', 'd', 'ss'],inplace=True)\n",
    "integrate_df.dropna(inplace=True)\n",
    "integrate_df = integrate_df[['yes_changeP', 'lastweek_changeP', 'dow_yes_changeP',\n",
    "       'dow_lastweek_changeP', 'nasdaq_yes_changeP',\n",
    "       'nasdaq_lastweek_changeP', 'today_changeP']]\n",
    "integrate_df\n",
    "\n",
    "# Today\n",
    "AMZN = yf.Ticker(\"AMZN\")\n",
    "# get historical market data\n",
    "amz_df = AMZN.history(period=\"8d\")\n",
    "amz_df\n",
    "\n",
    "Yes_changeP = (amz_df.iloc[7].Close-amz_df.iloc[6].Close)/amz_df.iloc[6].Close*100\n",
    "Lastweek_changeP = (amz_df.iloc[7].Close-amz_df.iloc[1].Close)/amz_df.iloc[1].Close*100\n",
    "\n",
    "Dow = yf.Ticker(\"^DJI\")\n",
    "\n",
    "# get historical market data\n",
    "dow_df = Dow.history(period=\"8d\")\n",
    "\n",
    "Dow_yes_changeP = (dow_df.iloc[7].Close-dow_df.iloc[6].Close)/dow_df.iloc[6].Close*100\n",
    "Dow_lastweek_changeP = (dow_df.iloc[7].Close-dow_df.iloc[1].Close)/dow_df.iloc[1].Close*100\n",
    "\n",
    "Nasdaq = yf.Ticker(\"^NDX\")\n",
    "\n",
    "# get historical market data\n",
    "nasdaq_df = Nasdaq.history(period=\"8d\")\n",
    "\n",
    "Nasdaq_yes_changeP = (nasdaq_df.iloc[7].Close-nasdaq_df.iloc[6].Close)/nasdaq_df.iloc[6].Close*100\n",
    "Nasdaq_lastweek_changeP = (nasdaq_df.iloc[7].Close-nasdaq_df.iloc[1].Close)/nasdaq_df.iloc[1].Close*100\n",
    "\n",
    "to_add = pd.Series ({'yes_changeP':Yes_changeP,\n",
    "            'lastweek_changeP':Lastweek_changeP,\n",
    "            'dow_yes_changeP':Dow_yes_changeP, \n",
    "            'dow_lastweek_changeP':Dow_lastweek_changeP,\n",
    "            'nasdaq_yes_changeP':Nasdaq_yes_changeP,\n",
    "            'nasdaq_lastweek_changeP':Nasdaq_lastweek_changeP,\n",
    "            'today_changeP':np.nan},name ='2021-03-06' )\n",
    "\n",
    "to_predict = pd.Series ({'yes_changeP':Yes_changeP,\n",
    "            'lastweek_changeP':Lastweek_changeP,\n",
    "            'dow_yes_changeP':Dow_yes_changeP, \n",
    "            'dow_lastweek_changeP':Dow_lastweek_changeP,\n",
    "            'nasdaq_yes_changeP':Nasdaq_yes_changeP,\n",
    "            'nasdaq_lastweek_changeP':Nasdaq_lastweek_changeP},name ='2021-03-06' )\n",
    "\n",
    "integrate_df = integrate_df.append(to_add)"
   ]
  },
  {
   "cell_type": "code",
   "execution_count": null,
   "metadata": {},
   "outputs": [],
   "source": [
    "integrate_df"
   ]
  },
  {
   "cell_type": "markdown",
   "metadata": {},
   "source": [
    "## What are the columns?\n",
    "\n",
    "- `yes_changeP`: Yesterday Amazon's stock price change\n",
    "\\begin{equation}\n",
    "yesChangeP=\\frac{yesterdayPrice - theDayBeforeYesterdayPrice}{theDayBeforeYesterdayPrice}*100\n",
    "\\end{equation}\n",
    "\n",
    "\n",
    "\n",
    "- `lastweek_changeP`: Last week Amazon's stock price change\n",
    "\\begin{equation}\n",
    "lastweekChangeP=\\frac{yesterdayPrice - lastWeekPrice}{lastWeekPrice}*100\n",
    "\\end{equation}\n",
    "\n",
    "\n",
    "\n",
    "- `dow_yes_changeP`: Yesterday Dow Jones change\n",
    "\\begin{equation}\n",
    "dowYesChangeP=\\frac{dowYesterdayPrice - dowTheDayBeforeYesterdayPrice}{dowTheDayBeforeYesterdayPrice}*100\n",
    "\\end{equation}\n",
    "\n",
    "\n",
    "- `dow_lastweek_changeP`: Last Week Dow Jones change\n",
    "\\begin{equation}\n",
    "dowYesChangeP=\\frac{dowYesterdayPrice - dowLastWeekPrice}{DowLastWeekPrice}*100\n",
    "\\end{equation}\n",
    "\n",
    "\n",
    "- `nasdaq_yes_changeP`: Yesterday NASDAQ 100 change\n",
    "\\begin{equation}\n",
    "nasdaqYesChangeP=\\frac{nasdaqYesterdayPrice - nasdaqTheDayBeforeYesterdayPrice}{nasdaqTheDayBeforeYesterdayPrice}*100\n",
    "\\end{equation}\n",
    "\n",
    "\n",
    "- `nasdaq_lastweek_changeP`: Last Week NASDAQ 100 change\n",
    "\\begin{equation}\n",
    "nasdaqYesChangeP=\\frac{nasdaqYesterdayPrice - nasdaqLastWeekPrice}{nasdaqLastWeekPrice}*100\n",
    "\\end{equation}\n",
    "\n",
    "\n",
    "- `today_changeP`: Today Amazon's stock price change\n",
    "\\begin{equation}\n",
    "todayChangeP=\\frac{todayPrice - yesterdayPrice}{yesterdayPrice}*100\n",
    "\\end{equation}\n"
   ]
  },
  {
   "cell_type": "markdown",
   "metadata": {},
   "source": [
    "## Prediciton model in words\n",
    "\n",
    "We are trying to find a connection between predictors, including `yes_changeP`, `lastweek_changeP`, `dow_yes_changeP`,`dow_lastweek_changeP`, `nasdaq_yes_changeP`, `nasdaq_lastweek_changeP`, to predict the target that is  `today_changeP`."
   ]
  },
  {
   "cell_type": "markdown",
   "metadata": {},
   "source": [
    "## Prediciton model visually"
   ]
  },
  {
   "cell_type": "code",
   "execution_count": null,
   "metadata": {},
   "outputs": [],
   "source": [
    "import matplotlib.image as mpimg\n",
    "\n",
    "img = mpimg.imread('visual.jpg')\n",
    "plt.figure(figsize=(10,20))\n",
    "plt.imshow(img)\n",
    "plt.show()\n"
   ]
  },
  {
   "cell_type": "markdown",
   "metadata": {},
   "source": [
    "## Prediciton model expressed in a multivariate regression model\n",
    "`today_changeP` = b0 + b1 * `yes_changeP` + b2*`lastweek_changeP` + b3* `dow_yes_changeP` + b4 * `dow_lastweek_changeP`+ b5 *`nasdaq_yes_changeP` + b6* `nasdaq_lastweek_changeP`"
   ]
  },
  {
   "cell_type": "markdown",
   "metadata": {},
   "source": [
    "## Regression model using Python"
   ]
  },
  {
   "cell_type": "code",
   "execution_count": null,
   "metadata": {},
   "outputs": [],
   "source": [
    "X = ['yes_changeP', 'lastweek_changeP', 'dow_yes_changeP',\n",
    "       'dow_lastweek_changeP', 'nasdaq_yes_changeP',\n",
    "      'nasdaq_lastweek_changeP']\n",
    "\n",
    "Y = 'today_changeP'\n",
    "\n",
    "Data_X = integrate_df.dropna()[X]\n",
    "Data_Y = integrate_df.dropna()[Y]"
   ]
  },
  {
   "cell_type": "code",
   "execution_count": null,
   "metadata": {},
   "outputs": [],
   "source": [
    "from sklearn.linear_model import LinearRegression\n",
    "from dmba import regressionSummary, exhaustive_search\n",
    "\n",
    "lm = LinearRegression()\n",
    "lm.fit(Data_X, Data_Y)"
   ]
  },
  {
   "cell_type": "code",
   "execution_count": null,
   "metadata": {},
   "outputs": [],
   "source": [
    "# print coefficients\n",
    "print('intercept (b0) ', lm.intercept_)\n",
    "coef_names = ['b1','b2','b3','b4','b5','b6']\n",
    "print(pd.DataFrame({'Predictor': Data_X.columns,'coefficient Name':coef_names, 'coefficient Value': lm.coef_}))\n",
    "\n",
    "# print performance measures\n",
    "regressionSummary(Data_Y, lm.predict(Data_X))"
   ]
  },
  {
   "cell_type": "code",
   "execution_count": null,
   "metadata": {},
   "outputs": [],
   "source": [
    "pred_y = lm.predict(Data_X)\n",
    "from dmba import adjusted_r2_score, AIC_score, BIC_score\n",
    "\n",
    "print('adjusted r2 : ', adjusted_r2_score(Data_Y, pred_y, lm))\n",
    "print('AIC : ', AIC_score(Data_Y, pred_y, lm))\n",
    "print('BIC : ', BIC_score(Data_Y, pred_y, lm))"
   ]
  },
  {
   "cell_type": "code",
   "execution_count": null,
   "metadata": {},
   "outputs": [],
   "source": [
    "pd.DataFrame(to_predict).transpose()"
   ]
  },
  {
   "cell_type": "code",
   "execution_count": null,
   "metadata": {},
   "outputs": [],
   "source": [
    "tomorrows_change = lm.predict(pd.DataFrame(to_predict).transpose())[0]\n",
    "tomorrows_change"
   ]
  },
  {
   "cell_type": "code",
   "execution_count": null,
   "metadata": {},
   "outputs": [],
   "source": [
    "today_price = amz_df.iloc[-1].Close\n",
    "today_price"
   ]
  },
  {
   "cell_type": "code",
   "execution_count": null,
   "metadata": {},
   "outputs": [],
   "source": [
    "Tomorrow_price = today_price * (1+ tomorrows_change/100)\n",
    "Tomorrow_price"
   ]
  },
  {
   "cell_type": "markdown",
   "metadata": {},
   "source": [
    "# Method 1 Statistical"
   ]
  },
  {
   "cell_type": "code",
   "execution_count": null,
   "metadata": {},
   "outputs": [],
   "source": [
    "import statsmodels.api as sm\n",
    "\n",
    "Data_X2 = sm.add_constant(Data_X)\n",
    "model = sm.OLS(Data_Y, Data_X2)\n",
    "model.fit().summary()"
   ]
  },
  {
   "cell_type": "code",
   "execution_count": null,
   "metadata": {},
   "outputs": [],
   "source": [
    "X = ['dow_yes_changeP']\n",
    "\n",
    "Y = 'today_changeP'\n",
    "\n",
    "Data_X = integrate_df.dropna()[X]\n",
    "Data_Y = integrate_df.dropna()[Y]\n",
    "\n",
    "Data_X2 = sm.add_constant(Data_X)\n",
    "est = sm.OLS(Data_Y, Data_X2)\n",
    "est2 = est.fit()\n",
    "print(est2.summary())"
   ]
  },
  {
   "cell_type": "markdown",
   "metadata": {},
   "source": [
    "# Method 2 | Corealtion Aanalysis"
   ]
  },
  {
   "cell_type": "code",
   "execution_count": null,
   "metadata": {},
   "outputs": [],
   "source": [
    "integrate_df.corr()"
   ]
  },
  {
   "cell_type": "code",
   "execution_count": null,
   "metadata": {},
   "outputs": [],
   "source": [
    "integrate_df.plot.scatter(x='yes_changeP',y='nasdaq_yes_changeP')"
   ]
  },
  {
   "cell_type": "code",
   "execution_count": null,
   "metadata": {},
   "outputs": [],
   "source": [
    "X = ['yes_changeP','nasdaq_lastweek_changeP','dow_yes_changeP']\n",
    "Y = 'today_changeP'\n",
    "\n",
    "Data_X = integrate_df.dropna()[X]\n",
    "Data_Y = integrate_df.dropna()[Y]\n",
    "\n",
    "Data_X2 = sm.add_constant(Data_X)\n",
    "est = sm.OLS(Data_Y, Data_X2)\n",
    "est2 = est.fit()\n",
    "print(est2.summary())"
   ]
  },
  {
   "cell_type": "markdown",
   "metadata": {},
   "source": [
    "# Method 3 Decision Tree"
   ]
  },
  {
   "cell_type": "code",
   "execution_count": null,
   "metadata": {},
   "outputs": [],
   "source": [
    "from sklearn.tree import DecisionTreeRegressor\n",
    "from matplotlib import pyplot as plt\n",
    "import pydotplus\n",
    "from sklearn import tree\n",
    "\n",
    "X = ['yes_changeP', 'lastweek_changeP', 'dow_yes_changeP',\n",
    "       'dow_lastweek_changeP', 'nasdaq_yes_changeP',\n",
    "      'nasdaq_lastweek_changeP']\n",
    "Y = 'today_changeP'\n",
    "\n",
    "Data_X = integrate_df.dropna()[X]\n",
    "Data_Y = integrate_df.dropna()[Y]\n",
    "\n",
    "regr = DecisionTreeRegressor(max_depth=1)\n",
    "regr.fit(Data_X, Data_Y)\n",
    "\n",
    "fig = plt.figure(figsize=(25,20))\n",
    "_ = tree.plot_tree(regr, feature_names=X, filled=True)\n"
   ]
  },
  {
   "cell_type": "markdown",
   "metadata": {},
   "source": [
    "# Method 4 - Random Forest"
   ]
  },
  {
   "cell_type": "code",
   "execution_count": null,
   "metadata": {},
   "outputs": [],
   "source": [
    "from sklearn.ensemble import RandomForestRegressor\n",
    "\n",
    "rf = RandomForestRegressor(n_estimators=500, random_state=1)\n",
    "rf.fit(Data_X, Data_Y)\n",
    "\n",
    "importances = rf.feature_importances_\n",
    "std = np.std([tree.feature_importances_ for tree in rf.estimators_], axis=0)\n",
    "\n",
    "df = pd.DataFrame({'feature': X, 'importance': importances, 'std': std})\n",
    "df = df.sort_values('importance')\n",
    "print(df)\n",
    "\n",
    "ax = df.plot(kind='barh', xerr='std', x='feature', legend=False)\n",
    "ax.set_ylabel('')\n",
    "\n",
    "plt.tight_layout()\n",
    "plt.show()"
   ]
  }
 ],
 "metadata": {
  "kernelspec": {
   "display_name": "Python 3",
   "language": "python",
   "name": "python3"
  },
  "language_info": {
   "codemirror_mode": {
    "name": "ipython",
    "version": 3
   },
   "file_extension": ".py",
   "mimetype": "text/x-python",
   "name": "python",
   "nbconvert_exporter": "python",
   "pygments_lexer": "ipython3",
   "version": "3.8.3"
  }
 },
 "nbformat": 4,
 "nbformat_minor": 4
}
