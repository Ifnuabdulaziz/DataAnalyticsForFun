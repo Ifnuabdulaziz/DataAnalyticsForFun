{
 "cells": [
  {
   "cell_type": "markdown",
   "metadata": {},
   "source": [
    "# Decision Tree Prediction\n",
    "We use ToyotaCorolla.csv for this lab.\n",
    "\n",
    "## Import required packages"
   ]
  },
  {
   "cell_type": "code",
   "execution_count": null,
   "metadata": {},
   "outputs": [],
   "source": [
    "import pandas as pd\n",
    "import numpy as np\n",
    "import matplotlib.image as mpimg\n",
    "import matplotlib.pylab as plt\n",
    "import seaborn as sns\n",
    "\n",
    "from sklearn.model_selection import train_test_split\n",
    "from sklearn.linear_model import LinearRegression\n",
    "from sklearn.neural_network import MLPRegressor\n",
    "import statsmodels.api as sm"
   ]
  },
  {
   "cell_type": "code",
   "execution_count": null,
   "metadata": {},
   "outputs": [],
   "source": [
    "car_df = pd.read_csv('ToyotaCorolla.csv')\n",
    "Selcelted_Columns = ['Age_08_04', 'KM', 'Fuel_Type', 'HP', 'Met_Color', 'Automatic', 'CC', \n",
    "              'Doors', 'Quarterly_Tax', 'Weight','Price']\n",
    "\n",
    "car_df = car_df[Selcelted_Columns]\n",
    "predictors = ['Age_08_04', 'KM', 'Fuel_Type', 'HP', 'Quarterly_Tax', 'Weight']\n",
    "target = 'Price'\n",
    "\n",
    "Data_X = pd.get_dummies(car_df[predictors], drop_first=True).drop(columns = ['Fuel_Type_Diesel'])\n",
    "Data_y = car_df.Price\n",
    "\n",
    "X_train, X_test, y_train, y_test = train_test_split(Data_X,Data_y,  test_size=0.3, random_state=1)\n",
    "\n",
    "result_df = pd.DataFrame(index=X_test.index, columns=['Random','Naive_Mean','LR','Actual'])\n",
    "result_df.Actual = y_test\n",
    "\n",
    "# Method: Naive Mean\n",
    "result_df.Naive_Mean = y_train.mean()\n",
    "\n",
    "# Method: Random\n",
    "result_df.Random = np.random.uniform(y_train.min(), y_train.max(),y_test.shape)\n",
    "\n",
    "#Method: LR\n",
    "car_lm = LinearRegression()\n",
    "car_lm.fit(X_train, y_train)\n",
    "result_df.LR =car_lm.predict(X_test)\n",
    "\n",
    "\n",
    "result_df['|Random-Actual|'] = abs(result_df.Random-result_df.Actual)\n",
    "result_df['|Naive_Mean-Actual|'] = abs(result_df.Naive_Mean-result_df.Actual)\n",
    "result_df['|LR-Actual|'] = abs(result_df.LR-result_df.Actual)\n",
    "\n",
    "\n",
    "table = result_df[['|Random-Actual|','|Naive_Mean-Actual|','|LR-Actual|']]\n",
    "\n",
    "plt.figure(figsize=(2,10))\n",
    "sns.heatmap(table, center=table.mean().mean(),cmap=\"Greys\")\n",
    "plt.show()"
   ]
  },
  {
   "cell_type": "code",
   "execution_count": null,
   "metadata": {},
   "outputs": [],
   "source": [
    "metric_df = pd.DataFrame(index = ['ME','RMSE', 'MAE','MAPE'] ,\n",
    "                         columns = ['Random','Naive_Mean','LR'])\n",
    "\n",
    "n_test = len(result_df)\n",
    "\n",
    "for m in metric_df.columns:\n",
    "    metric_df.at['ME',m]= np.sum((result_df.Actual - result_df[m]))/n_test\n",
    "    metric_df.at['RMSE',m]= np.sqrt(np.sum(result_df.apply(lambda r: (r.Actual - r[m])**2,axis=1))/n_test)\n",
    "    metric_df.at['MAE',m] = np.sum(abs(result_df.Actual - result_df[m]))/n_test\n",
    "    metric_df.at['MAPE',m] = np.sum(result_df.apply(lambda r:abs(r.Actual-r[m])/r.Actual,axis=1))/n_test*100\n",
    "metric_df"
   ]
  },
  {
   "cell_type": "markdown",
   "metadata": {},
   "source": [
    "# MLP"
   ]
  },
  {
   "cell_type": "code",
   "execution_count": null,
   "metadata": {},
   "outputs": [],
   "source": [
    "car_mlp = MLPRegressor(hidden_layer_sizes=5,max_iter=2000)\n",
    "car_mlp.fit(X_train, y_train)\n",
    "\n",
    "result_df['MLP'] = car_mlp.predict(X_test)\n",
    "result_df['|MLP-Actual|'] = abs(result_df.MLP-result_df.Actual)\n",
    "\n",
    "table = result_df[['|Random-Actual|','|Naive_Mean-Actual|','|LR-Actual|','|MLP-Actual|']]\n",
    "\n",
    "plt.figure(figsize=(2,10))\n",
    "sns.heatmap(table, center=table.mean().mean(),cmap=\"Greys\")\n",
    "plt.show()"
   ]
  },
  {
   "cell_type": "code",
   "execution_count": null,
   "metadata": {},
   "outputs": [],
   "source": [
    "m='MLP'\n",
    "\n",
    "metric_df.at['ME',m]= np.sum((result_df.Actual - result_df[m]))/n_test\n",
    "metric_df.at['RMSE',m]= np.sqrt(np.sum(result_df.apply(lambda r: (r.Actual - r[m])**2,axis=1))/n_test)\n",
    "metric_df.at['MAE',m] = np.sum(abs(result_df.Actual - result_df[m]))/n_test\n",
    "metric_df.at['MAPE',m] = np.sum(result_df.apply(lambda r:abs(r.Actual-r[m])/r.Actual,axis=1))/n_test*100\n",
    "\n",
    "metric_df"
   ]
  },
  {
   "cell_type": "code",
   "execution_count": null,
   "metadata": {},
   "outputs": [],
   "source": [
    "# Create tuning (validation) set: devide the trainset\n",
    "\n",
    "X_train_s, X_tune, y_train_s, y_tune = train_test_split(X_train, y_train, test_size=0.2, random_state=1)\n",
    "\n",
    "print('X_train Shape: ', X_train.shape)\n",
    "print('y_train Shape: ', y_train.shape)\n",
    "\n",
    "print('X_train_s Shape: ', X_train_s.shape)\n",
    "print('X_tune Shape: ', X_tune.shape)\n",
    "print('y_train_s Shape: ', y_train_s.shape)\n",
    "print('y_tune Shape: ', y_tune.shape)"
   ]
  },
  {
   "cell_type": "markdown",
   "metadata": {},
   "source": [
    "# Tune for Randomness\n"
   ]
  },
  {
   "cell_type": "code",
   "execution_count": null,
   "metadata": {},
   "outputs": [],
   "source": [
    "random_options = range(1,10)\n",
    "\n",
    "tune_df = pd.DataFrame(index = random_options,\n",
    "                       columns=['RSME'])\n",
    "tune_df"
   ]
  },
  {
   "cell_type": "code",
   "execution_count": null,
   "metadata": {},
   "outputs": [],
   "source": [
    "n=len(y_tune)\n",
    "for random_o in random_options:\n",
    "    car_mlp = MLPRegressor(hidden_layer_sizes=(10), max_iter=2000,\n",
    "                               activation='relu',solver='lbfgs', learning_rate='invscaling',\n",
    "                               learning_rate_init= 0.01, shuffle = False, alpha = 0.00005, random_state=random_o)\n",
    "    car_mlp.fit(X_train_s, y_train_s)\n",
    "    y_tune_predict = car_mlp.predict(X_tune)\n",
    "    RSME = np.sqrt(np.sum((y_tune_predict - y_tune)**2)/n)\n",
    "    tune_df.at[random_o,'RSME'] = RSME\n",
    "    print(random_o)"
   ]
  },
  {
   "cell_type": "code",
   "execution_count": null,
   "metadata": {},
   "outputs": [],
   "source": [
    "tune_df"
   ]
  },
  {
   "cell_type": "markdown",
   "metadata": {},
   "source": [
    "# Train the tuned MLP on train set"
   ]
  },
  {
   "cell_type": "code",
   "execution_count": null,
   "metadata": {},
   "outputs": [],
   "source": [
    "car_mlp = MLPRegressor(hidden_layer_sizes=(10), max_iter=2000,\n",
    "                               activation='relu',solver='lbfgs', learning_rate='invscaling',\n",
    "                               learning_rate_init= 0.01, shuffle = False, alpha = 0.00005,random_state=2)\n",
    "\n",
    "car_mlp.fit(X_train_s, y_train_s)\n",
    "result_df['MLP_tuned'] = car_mlp.predict(X_test)\n",
    "result_df['|MLP_tuned-Actual|'] = abs(result_df.MLP_tuned-result_df.Actual)\n",
    "\n",
    "table = result_df[['|Random-Actual|','|Naive_Mean-Actual|','|LR-Actual|','|MLP-Actual|','|MLP_tuned-Actual|']]\n",
    "\n",
    "plt.figure(figsize=(2,10))\n",
    "sns.heatmap(table, center=table.mean().mean(),cmap=\"Greys\")\n",
    "plt.show()"
   ]
  },
  {
   "cell_type": "code",
   "execution_count": null,
   "metadata": {},
   "outputs": [],
   "source": [
    "m='MLP_tuned'\n",
    "\n",
    "metric_df.at['ME',m]= np.sum((result_df.Actual - result_df[m]))/n_test\n",
    "metric_df.at['RMSE',m]= np.sqrt(np.sum(result_df.apply(lambda r: (r.Actual - r[m])**2,axis=1))/n_test)\n",
    "metric_df.at['MAE',m] = np.sum(abs(result_df.Actual - result_df[m]))/n_test\n",
    "metric_df.at['MAPE',m] = np.sum(result_df.apply(lambda r:abs(r.Actual-r[m])/r.Actual,axis=1))/n_test*100\n",
    "\n",
    "metric_df"
   ]
  },
  {
   "cell_type": "markdown",
   "metadata": {},
   "source": [
    "# DT"
   ]
  },
  {
   "cell_type": "code",
   "execution_count": null,
   "metadata": {},
   "outputs": [],
   "source": [
    "from sklearn.tree import DecisionTreeRegressor\n",
    "from dmba import plotDecisionTree\n",
    "\n",
    "car_dt = DecisionTreeRegressor()\n",
    "car_dt.fit(X_train,y_train)\n",
    "\n",
    "plotDecisionTree(car_dt, feature_names=X_train.columns, rotate=True)"
   ]
  },
  {
   "cell_type": "code",
   "execution_count": null,
   "metadata": {},
   "outputs": [],
   "source": [
    "result_df['DT'] = car_dt.predict(X_test)\n",
    "result_df['|DT-Actual|'] = abs(result_df.DT-result_df.Actual)\n",
    "\n",
    "table = result_df[['|Random-Actual|','|Naive_Mean-Actual|','|LR-Actual|','|MLP-Actual|','|MLP_tuned-Actual|','|DT-Actual|']]\n",
    "\n",
    "plt.figure(figsize=(2,10))\n",
    "sns.heatmap(table, center=table.mean().mean(),cmap=\"Greys\")\n",
    "plt.show()"
   ]
  },
  {
   "cell_type": "code",
   "execution_count": null,
   "metadata": {
    "scrolled": true
   },
   "outputs": [],
   "source": [
    "m='DT'\n",
    "\n",
    "metric_df.at['ME',m]= np.sum((result_df.Actual - result_df[m]))/n_test\n",
    "metric_df.at['RMSE',m]= np.sqrt(np.sum(result_df.apply(lambda r: (r.Actual - r[m])**2,axis=1))/n_test)\n",
    "metric_df.at['MAE',m] = np.sum(abs(result_df.Actual - result_df[m]))/n_test\n",
    "metric_df.at['MAPE',m] = np.sum(result_df.apply(lambda r:abs(r.Actual-r[m])/r.Actual,axis=1))/n_test*100\n",
    "\n",
    "metric_df"
   ]
  },
  {
   "cell_type": "markdown",
   "metadata": {},
   "source": [
    "# Tune DT"
   ]
  },
  {
   "cell_type": "code",
   "execution_count": null,
   "metadata": {},
   "outputs": [],
   "source": [
    "from sklearn.model_selection import GridSearchCV\n",
    "\n",
    "param_grid = {\n",
    "    'criterion':['mse','friedman_mse','mae'],\n",
    "    'splitter' : ['best','random'],\n",
    "    'max_depth': [50, 60, 70, 80, 90, 100], \n",
    "    'min_samples_split': [5, 10, 20, 30, 40], \n",
    "    'min_impurity_decrease': [0, 0.0005, 0.001, 0.005, 0.01], \n",
    "}\n",
    "\n",
    "gridSearch = GridSearchCV(DecisionTreeRegressor(), param_grid, cv=5, scoring='neg_mean_squared_error')\n",
    "gridSearch.fit(X_train, y_train)\n",
    "print('Initial score: ', gridSearch.best_score_)\n",
    "print('Initial parameters: ', gridSearch.best_params_)"
   ]
  },
  {
   "cell_type": "code",
   "execution_count": null,
   "metadata": {
    "scrolled": true
   },
   "outputs": [],
   "source": [
    "param_grid = {\n",
    "    'criterion':['mae'],\n",
    "    'splitter' : ['random'],\n",
    "    'max_depth': [56,57,58,59,60,61,62,63,64], \n",
    "    'min_samples_split': [6, 8, 10, 12, 14], \n",
    "    'min_impurity_decrease': [0,0.00001 , 0.00005, 0.0001, 0.0005], \n",
    "}\n",
    "\n",
    "gridSearch = GridSearchCV(DecisionTreeRegressor(), param_grid, cv=5, scoring='neg_mean_squared_error')\n",
    "gridSearch.fit(X_train, y_train)\n",
    "print('Initial score: ', gridSearch.best_score_)\n",
    "print('Initial parameters: ', gridSearch.best_params_)"
   ]
  },
  {
   "cell_type": "markdown",
   "metadata": {},
   "source": [
    "# Tune for Randomness"
   ]
  },
  {
   "cell_type": "code",
   "execution_count": null,
   "metadata": {},
   "outputs": [],
   "source": [
    "n=len(y_tune)\n",
    "random_options = range(1,100)\n",
    "\n",
    "tune_df = pd.DataFrame(index = random_options,\n",
    "                       columns=['RSME'])\n",
    "\n",
    "\n",
    "for random_o in random_options:\n",
    "    car_dt = DecisionTreeRegressor(criterion='mae', splitter='random', max_depth=64,\n",
    "                           min_samples_split = 12, min_impurity_decrease = 0.0001, random_state=random_o)\n",
    "    car_dt.fit(X_train_s, y_train_s)\n",
    "    y_tune_predict = car_dt.predict(X_tune)\n",
    "    RSME = np.sqrt(np.sum((y_tune_predict - y_tune)**2)/n)\n",
    "    tune_df.at[random_o,'RSME'] = RSME"
   ]
  },
  {
   "cell_type": "code",
   "execution_count": null,
   "metadata": {},
   "outputs": [],
   "source": [
    "tune_df.RSME.sort_values()"
   ]
  },
  {
   "cell_type": "markdown",
   "metadata": {},
   "source": [
    "# Tuned DT"
   ]
  },
  {
   "cell_type": "code",
   "execution_count": null,
   "metadata": {},
   "outputs": [],
   "source": [
    "car_dt = DecisionTreeRegressor(criterion='mae', splitter='random', max_depth=64,\n",
    "                           min_samples_split = 12, min_impurity_decrease = 0.0001, random_state=37)\n",
    "car_dt.fit(X_train_s, y_train_s)\n",
    "\n",
    "plotDecisionTree(car_dt, feature_names=X_train.columns, rotate=True)"
   ]
  },
  {
   "cell_type": "code",
   "execution_count": null,
   "metadata": {},
   "outputs": [],
   "source": [
    "result_df['DT_tuned'] = car_dt.predict(X_test)\n",
    "result_df['|DT_tuned-Actual|'] = abs(result_df.DT_tuned-result_df.Actual)\n",
    "\n",
    "table = result_df[['|Random-Actual|','|Naive_Mean-Actual|','|LR-Actual|','|MLP-Actual|',\n",
    "                   '|MLP_tuned-Actual|','|DT-Actual|','|DT_tuned-Actual|']]\n",
    "\n",
    "plt.figure(figsize=(2,10))\n",
    "sns.heatmap(table, center=table.mean().mean(),cmap=\"Greys\")\n",
    "plt.show()"
   ]
  },
  {
   "cell_type": "code",
   "execution_count": null,
   "metadata": {},
   "outputs": [],
   "source": [
    "m='DT_tuned'\n",
    "\n",
    "metric_df.at['ME',m]= np.sum((result_df.Actual - result_df[m]))/n_test\n",
    "metric_df.at['RMSE',m]= np.sqrt(np.sum(result_df.apply(lambda r: (r.Actual - r[m])**2,axis=1))/n_test)\n",
    "metric_df.at['MAE',m] = np.sum(abs(result_df.Actual - result_df[m]))/n_test\n",
    "metric_df.at['MAPE',m] = np.sum(result_df.apply(lambda r:abs(r.Actual-r[m])/r.Actual,axis=1))/n_test*100\n",
    "\n",
    "metric_df"
   ]
  },
  {
   "cell_type": "code",
   "execution_count": null,
   "metadata": {},
   "outputs": [],
   "source": []
  }
 ],
 "metadata": {
  "kernelspec": {
   "display_name": "Python 3",
   "language": "python",
   "name": "python3"
  },
  "language_info": {
   "codemirror_mode": {
    "name": "ipython",
    "version": 3
   },
   "file_extension": ".py",
   "mimetype": "text/x-python",
   "name": "python",
   "nbconvert_exporter": "python",
   "pygments_lexer": "ipython3",
   "version": "3.8.5"
  }
 },
 "nbformat": 4,
 "nbformat_minor": 2
}
