{
 "cells": [
  {
   "cell_type": "code",
   "execution_count": null,
   "metadata": {},
   "outputs": [],
   "source": [
    "import pandas as pd\n",
    "\n",
    "stocks_df = pd.read_csv('PopularStockSymbols.csv')"
   ]
  },
  {
   "cell_type": "code",
   "execution_count": null,
   "metadata": {},
   "outputs": [],
   "source": [
    "stocks_df"
   ]
  },
  {
   "cell_type": "code",
   "execution_count": null,
   "metadata": {},
   "outputs": [],
   "source": [
    "symbols_df = stocks_df.set_index('Symbol')"
   ]
  },
  {
   "cell_type": "code",
   "execution_count": null,
   "metadata": {},
   "outputs": [],
   "source": [
    "symbols_df"
   ]
  },
  {
   "cell_type": "code",
   "execution_count": null,
   "metadata": {},
   "outputs": [],
   "source": [
    "import yfinance as yf\n",
    "def YesterdayChangeP (v):\n",
    "    YFSTK = yf.Ticker(v)\n",
    "    stk_df = YFSTK.history(period=\"2d\")\n",
    "    return (stk_df.iloc[-1].Close-stk_df.iloc[-1].Open)/stk_df.iloc[-1].Open*100"
   ]
  },
  {
   "cell_type": "code",
   "execution_count": null,
   "metadata": {},
   "outputs": [],
   "source": [
    "stocks_df['YesterdayChange'] = stocks_df.Symbol.apply(YesterdayChangeP)"
   ]
  },
  {
   "cell_type": "code",
   "execution_count": null,
   "metadata": {},
   "outputs": [],
   "source": [
    "def LWeekChangeP (v):\n",
    "    YFSTK = yf.Ticker(v)\n",
    "    stk_df = YFSTK.history(period=\"8d\")\n",
    "    return (stk_df.iloc[-1].Close-stk_df.iloc[1].Open)/stk_df.iloc[1].Open*100"
   ]
  },
  {
   "cell_type": "code",
   "execution_count": null,
   "metadata": {},
   "outputs": [],
   "source": [
    "stocks_df['LastWeekChange'] = stocks_df.Symbol.apply(LWeekChangeP)"
   ]
  },
  {
   "cell_type": "code",
   "execution_count": null,
   "metadata": {},
   "outputs": [],
   "source": [
    "def LMonthChangeP (v):\n",
    "    YFSTK = yf.Ticker(v)\n",
    "    stk_df = YFSTK.history(period=\"31d\")\n",
    "    return (stk_df.iloc[-1].Close-stk_df.iloc[1].Open)/stk_df.iloc[1].Open*100"
   ]
  },
  {
   "cell_type": "code",
   "execution_count": null,
   "metadata": {},
   "outputs": [],
   "source": [
    "stocks_df['LastMonthChange'] = stocks_df.Symbol.apply(LMonthChangeP)"
   ]
  },
  {
   "cell_type": "code",
   "execution_count": null,
   "metadata": {},
   "outputs": [],
   "source": [
    "import time\n",
    "import requests\n",
    "Template = 'https://finnhub.io/api/v1/stock/recommendation?symbol={}&token=bsiqli7rh5rc8orbnkqg'\n",
    "\n",
    "def Rating (v):\n",
    "    Address = (Template.format(v))\n",
    "    r = requests.get(Address)\n",
    "    #time.sleep(1.01)\n",
    "    #print(v)\n",
    "    \n",
    "    if not r.json():\n",
    "        return 0\n",
    "    else:\n",
    "        ws = pd.Series(r.json()[0])\n",
    "        Total = ws.buy + ws.hold + ws.sell + ws.strongBuy + ws.strongSell\n",
    "        score = (ws.buy*2 + ws.hold - ws.sell*2 + ws.strongBuy*2.5 - ws.strongSell*2.5)/Total\n",
    "        return score"
   ]
  },
  {
   "cell_type": "code",
   "execution_count": null,
   "metadata": {},
   "outputs": [],
   "source": [
    "stocks_df['Rating'] = stocks_df.Symbol.apply(Rating)"
   ]
  },
  {
   "cell_type": "code",
   "execution_count": null,
   "metadata": {},
   "outputs": [],
   "source": [
    "stocks_df.Rating = stocks_df.Rating.apply(lambda v: 0 if v<0 else v)"
   ]
  },
  {
   "cell_type": "code",
   "execution_count": null,
   "metadata": {},
   "outputs": [],
   "source": [
    "stocks_df.set_index('Symbol', drop=True, inplace=True)\n",
    "stocks_df.drop(columns=['Name'],inplace=True)"
   ]
  },
  {
   "cell_type": "code",
   "execution_count": null,
   "metadata": {},
   "outputs": [],
   "source": [
    "stocks_df"
   ]
  },
  {
   "cell_type": "code",
   "execution_count": null,
   "metadata": {},
   "outputs": [],
   "source": [
    "stocks_df.describe()"
   ]
  },
  {
   "cell_type": "code",
   "execution_count": null,
   "metadata": {},
   "outputs": [],
   "source": [
    "columns = ['YesterdayChange','LastWeekChange','LastMonthChange','Rating']\n",
    "import matplotlib.pyplot as plt\n",
    "\n",
    "for col in columns:\n",
    "    stocks_df[col].plot.hist()\n",
    "    plt.show()\n",
    "    stocks_df[col].plot.box(vert=False)\n",
    "    plt.show()"
   ]
  },
  {
   "cell_type": "code",
   "execution_count": null,
   "metadata": {},
   "outputs": [],
   "source": [
    "stocks_df_nor = (stocks_df - stocks_df.min())/(stocks_df.max() - stocks_df.min())*2-1"
   ]
  },
  {
   "cell_type": "code",
   "execution_count": null,
   "metadata": {},
   "outputs": [],
   "source": [
    "stocks_df_nor.describe()"
   ]
  },
  {
   "cell_type": "code",
   "execution_count": null,
   "metadata": {},
   "outputs": [],
   "source": [
    "from sklearn.cluster import KMeans\n",
    "from sklearn.metrics import silhouette_score\n",
    "\n",
    "SIL_results = pd.DataFrame(0.0, index =[4], \n",
    "                       columns= ['R{}'.format(i) for i in range(1,100)])\n",
    "\n",
    "Clusterings =[]\n",
    "\n",
    "for n_cluster in SIL_results.index:\n",
    "    for col in SIL_results.columns:\n",
    "        algort = KMeans(n_clusters=n_cluster).fit(stocks_df_nor)\n",
    "        SIL_results.at[n_cluster,col] = silhouette_score(stocks_df_nor,algort.labels_)\n",
    "        Clusterings.append(algort.labels_)\n",
    "        # Inertia: Sum of distances of samples to their closest cluster center\n",
    "\n",
    "SIL_results.transpose().plot.box()\n",
    "\n",
    "SIL_results['Mean'] = SIL_results[['R{}'.format(i) for i in range(1,15)]].mean(axis=1)\n",
    "SIL_results['Var'] = SIL_results[['R{}'.format(i) for i in range(1,15)]].var(axis=1)\n",
    "SIL_results"
   ]
  },
  {
   "cell_type": "code",
   "execution_count": null,
   "metadata": {},
   "outputs": [],
   "source": [
    "import numpy as np\n",
    "\n",
    "memb = pd.Series(Clusterings[np.argmax(SIL_results)], index=stocks_df_nor.index)\n",
    "memb"
   ]
  },
  {
   "cell_type": "code",
   "execution_count": null,
   "metadata": {},
   "outputs": [],
   "source": [
    "stocks_df = stocks_df.join(pd.DataFrame(memb,columns=['Cluster']))\n",
    "stocks_df"
   ]
  },
  {
   "cell_type": "code",
   "execution_count": null,
   "metadata": {},
   "outputs": [],
   "source": [
    "Centroids_nor = pd.DataFrame(0.0, index = ['Cluster {}'.format(i) for i in range(4)],\n",
    "                        columns = stocks_df_nor.columns)\n",
    "\n",
    "for i in range(4):\n",
    "    BM = memb==i\n",
    "    Centroids_nor.iloc[i] = stocks_df_nor[BM].mean(axis=0)\n",
    "    \n",
    "Centroids_nor"
   ]
  },
  {
   "cell_type": "code",
   "execution_count": null,
   "metadata": {},
   "outputs": [],
   "source": [
    "import seaborn as sns\n",
    "for i in range(4):\n",
    "\n",
    "    plt.figure(figsize=(10,4))\n",
    "    Clust_name = 'Cluster ' + str(i)\n",
    "    sns.heatmap(Centroids_nor.sort_values(Clust_name,axis=1).transpose(), linewidths=.5, annot=True, \n",
    "                cmap='coolwarm_r')\n",
    "    plt.show()"
   ]
  },
  {
   "cell_type": "code",
   "execution_count": null,
   "metadata": {},
   "outputs": [],
   "source": [
    "Cluster_names = ['Low Rate Low performance','High Rate Medium Perfomrance', 'High Rate High Performance','Mixed rate and performance']"
   ]
  },
  {
   "cell_type": "code",
   "execution_count": null,
   "metadata": {},
   "outputs": [],
   "source": [
    "for clst in stocks_df.Cluster.unique():\n",
    "    \n",
    "    BM = stocks_df.Cluster == clst\n",
    "    wdf = stocks_df[BM]\n",
    "    \n",
    "    print('Cluster Name: {}'.format(Cluster_names[clst]))\n",
    "    print('Number of Members: {}'.format(len(wdf)))\n",
    "    print(symbols_df.loc[wdf.index].Name)\n",
    "    print('-----------------')\n",
    "    \n",
    "    "
   ]
  }
 ],
 "metadata": {
  "kernelspec": {
   "display_name": "Python 3",
   "language": "python",
   "name": "python3"
  },
  "language_info": {
   "codemirror_mode": {
    "name": "ipython",
    "version": 3
   },
   "file_extension": ".py",
   "mimetype": "text/x-python",
   "name": "python",
   "nbconvert_exporter": "python",
   "pygments_lexer": "ipython3",
   "version": "3.8.3"
  }
 },
 "nbformat": 4,
 "nbformat_minor": 4
}
